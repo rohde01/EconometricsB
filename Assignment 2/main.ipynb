{
 "cells": [
  {
   "cell_type": "markdown",
   "metadata": {},
   "source": [
    "### Importing libraries and modules:"
   ]
  },
  {
   "cell_type": "code",
   "execution_count": 205,
   "metadata": {},
   "outputs": [],
   "source": [
    "import pandas as pd\n",
    "import numpy as np \n",
    "import matplotlib.pyplot as plt\n",
    " \n",
    "import paneldata as lpd\n",
    "from models import *\n",
    "import mestim as M "
   ]
  },
  {
   "cell_type": "markdown",
   "metadata": {},
   "source": [
    "# Formatting"
   ]
  },
  {
   "cell_type": "code",
   "execution_count": 206,
   "metadata": {},
   "outputs": [],
   "source": [
    "# prepare\n",
    "dat = pd.read_csv(\"union.csv\", delimiter=\",\")\n",
    "\n",
    "dat = dat[dat.year < 1985]"
   ]
  },
  {
   "cell_type": "code",
   "execution_count": 207,
   "metadata": {},
   "outputs": [
    {
     "name": "stdout",
     "output_type": "stream",
     "text": [
      "Data has N=545 and T=5\n"
     ]
    }
   ],
   "source": [
    "N = dat.nr.unique().size\n",
    "T = dat.year.unique().size\n",
    "assert dat.shape[0] == N*T, f'Error: data is not a balanced panel'\n",
    "print(f'Data has N={N} and T={T}')"
   ]
  },
  {
   "cell_type": "code",
   "execution_count": 208,
   "metadata": {},
   "outputs": [],
   "source": [
    "# constant column\n",
    "\n",
    "dat['const']=np.ones((dat.shape[0],1))"
   ]
  },
  {
   "cell_type": "code",
   "execution_count": 209,
   "metadata": {},
   "outputs": [],
   "source": [
    "# Add variables\n",
    "\n",
    "addlag(dat, 'union', tid='year', t0 = 1980)\n",
    "\n",
    "\n",
    "dat['union1']=dat['union'].groupby(dat['nr']).transform(lambda x: x.to_numpy()[0] )\n",
    "\n",
    "\n",
    "y_it = ['union']\n",
    "x_t = ['year']\n",
    "x_it = ['married']\n",
    "x_lag = ['l1.union']\n",
    "x_i = ['educ']\n",
    "const = ['const']\n",
    "groupvar = 'nr'"
   ]
  },
  {
   "cell_type": "code",
   "execution_count": 210,
   "metadata": {},
   "outputs": [
    {
     "data": {
      "text/html": [
       "<div>\n",
       "<style scoped>\n",
       "    .dataframe tbody tr th:only-of-type {\n",
       "        vertical-align: middle;\n",
       "    }\n",
       "\n",
       "    .dataframe tbody tr th {\n",
       "        vertical-align: top;\n",
       "    }\n",
       "\n",
       "    .dataframe thead th {\n",
       "        text-align: right;\n",
       "    }\n",
       "</style>\n",
       "<table border=\"1\" class=\"dataframe\">\n",
       "  <thead>\n",
       "    <tr style=\"text-align: right;\">\n",
       "      <th></th>\n",
       "      <th>nr</th>\n",
       "      <th>year</th>\n",
       "      <th>union</th>\n",
       "      <th>married</th>\n",
       "      <th>educ</th>\n",
       "      <th>const</th>\n",
       "      <th>l1.union</th>\n",
       "      <th>union1</th>\n",
       "    </tr>\n",
       "  </thead>\n",
       "  <tbody>\n",
       "    <tr>\n",
       "      <th>count</th>\n",
       "      <td>2725.000000</td>\n",
       "      <td>2725.000000</td>\n",
       "      <td>2725.000000</td>\n",
       "      <td>2725.000000</td>\n",
       "      <td>2725.000000</td>\n",
       "      <td>2725.0</td>\n",
       "      <td>2180.000000</td>\n",
       "      <td>2725.000000</td>\n",
       "    </tr>\n",
       "    <tr>\n",
       "      <th>mean</th>\n",
       "      <td>5262.058716</td>\n",
       "      <td>1982.000000</td>\n",
       "      <td>0.251009</td>\n",
       "      <td>0.355963</td>\n",
       "      <td>11.766972</td>\n",
       "      <td>1.0</td>\n",
       "      <td>0.250917</td>\n",
       "      <td>0.251376</td>\n",
       "    </tr>\n",
       "    <tr>\n",
       "      <th>std</th>\n",
       "      <td>3496.390456</td>\n",
       "      <td>1.414473</td>\n",
       "      <td>0.433673</td>\n",
       "      <td>0.478892</td>\n",
       "      <td>1.746302</td>\n",
       "      <td>0.0</td>\n",
       "      <td>0.433641</td>\n",
       "      <td>0.433884</td>\n",
       "    </tr>\n",
       "    <tr>\n",
       "      <th>min</th>\n",
       "      <td>13.000000</td>\n",
       "      <td>1980.000000</td>\n",
       "      <td>0.000000</td>\n",
       "      <td>0.000000</td>\n",
       "      <td>3.000000</td>\n",
       "      <td>1.0</td>\n",
       "      <td>0.000000</td>\n",
       "      <td>0.000000</td>\n",
       "    </tr>\n",
       "    <tr>\n",
       "      <th>25%</th>\n",
       "      <td>2329.000000</td>\n",
       "      <td>1981.000000</td>\n",
       "      <td>0.000000</td>\n",
       "      <td>0.000000</td>\n",
       "      <td>11.000000</td>\n",
       "      <td>1.0</td>\n",
       "      <td>0.000000</td>\n",
       "      <td>0.000000</td>\n",
       "    </tr>\n",
       "    <tr>\n",
       "      <th>50%</th>\n",
       "      <td>4569.000000</td>\n",
       "      <td>1982.000000</td>\n",
       "      <td>0.000000</td>\n",
       "      <td>0.000000</td>\n",
       "      <td>12.000000</td>\n",
       "      <td>1.0</td>\n",
       "      <td>0.000000</td>\n",
       "      <td>0.000000</td>\n",
       "    </tr>\n",
       "    <tr>\n",
       "      <th>75%</th>\n",
       "      <td>8406.000000</td>\n",
       "      <td>1983.000000</td>\n",
       "      <td>1.000000</td>\n",
       "      <td>1.000000</td>\n",
       "      <td>12.000000</td>\n",
       "      <td>1.0</td>\n",
       "      <td>1.000000</td>\n",
       "      <td>1.000000</td>\n",
       "    </tr>\n",
       "    <tr>\n",
       "      <th>max</th>\n",
       "      <td>12548.000000</td>\n",
       "      <td>1984.000000</td>\n",
       "      <td>1.000000</td>\n",
       "      <td>1.000000</td>\n",
       "      <td>16.000000</td>\n",
       "      <td>1.0</td>\n",
       "      <td>1.000000</td>\n",
       "      <td>1.000000</td>\n",
       "    </tr>\n",
       "  </tbody>\n",
       "</table>\n",
       "</div>"
      ],
      "text/plain": [
       "                 nr         year        union      married         educ  \\\n",
       "count   2725.000000  2725.000000  2725.000000  2725.000000  2725.000000   \n",
       "mean    5262.058716  1982.000000     0.251009     0.355963    11.766972   \n",
       "std     3496.390456     1.414473     0.433673     0.478892     1.746302   \n",
       "min       13.000000  1980.000000     0.000000     0.000000     3.000000   \n",
       "25%     2329.000000  1981.000000     0.000000     0.000000    11.000000   \n",
       "50%     4569.000000  1982.000000     0.000000     0.000000    12.000000   \n",
       "75%     8406.000000  1983.000000     1.000000     1.000000    12.000000   \n",
       "max    12548.000000  1984.000000     1.000000     1.000000    16.000000   \n",
       "\n",
       "        const     l1.union       union1  \n",
       "count  2725.0  2180.000000  2725.000000  \n",
       "mean      1.0     0.250917     0.251376  \n",
       "std       0.0     0.433641     0.433884  \n",
       "min       1.0     0.000000     0.000000  \n",
       "25%       1.0     0.000000     0.000000  \n",
       "50%       1.0     0.000000     0.000000  \n",
       "75%       1.0     1.000000     1.000000  \n",
       "max       1.0     1.000000     1.000000  "
      ]
     },
     "metadata": {},
     "output_type": "display_data"
    },
    {
     "name": "stdout",
     "output_type": "stream",
     "text": [
      "Within group standard deviation:\n",
      "year        1.58114\n",
      "union       0.17403\n",
      "married     0.18941\n",
      "educ        0.00000\n",
      "const       0.00000\n",
      "l1.union    0.16659\n",
      "union1      0.00000\n",
      "dtype: float64\n",
      "Between group standard deviation:\n"
     ]
    },
    {
     "data": {
      "text/plain": [
       "year        0.00000\n",
       "union       0.34615\n",
       "married     0.39141\n",
       "educ        1.74759\n",
       "const       0.00000\n",
       "l1.union    0.35029\n",
       "union1      0.43420\n",
       "dtype: float64"
      ]
     },
     "metadata": {},
     "output_type": "display_data"
    }
   ],
   "source": [
    "display(dat.describe())\n",
    "print('Within group standard deviation:'); print(dat.groupby('nr').std().mean().round(5)) \n",
    "print('Between group standard deviation:'); display(dat.groupby('nr').mean().std().round(5)) "
   ]
  },
  {
   "cell_type": "code",
   "execution_count": 211,
   "metadata": {},
   "outputs": [
    {
     "name": "stdout",
     "output_type": "stream",
     "text": [
      "\n",
      "Specification: Linear Fixed Effects Regression\n",
      "Dep. var. : ['union'] \n",
      "\n",
      "parnames         b_hat          se    t-values\n",
      "----------  ----------  ----------  ----------\n",
      "l1.union       -0.0719      0.0329     -2.1846\n",
      "married        -0.0153      0.0271     -0.5652\n",
      "year            0.0005      0.0062      0.0798\n",
      "# of groups:       545\n",
      "# of observations: 2180 \n",
      "\n",
      "\n",
      "Specification: Pooled OLS Panel Regression\n",
      "Dep. var. : ['union'] \n",
      "\n",
      "parnames         b_hat          se    t-values\n",
      "----------  ----------  ----------  ----------\n",
      "l1.union        0.6136      0.0256     23.9673\n",
      "married         0.0200      0.0153      1.3046\n",
      "year           -0.0014      0.0054     -0.2655\n",
      "educ           -0.0010      0.0038     -0.2640\n",
      "const           2.9640     10.7831      0.2749\n",
      "# of groups:       545\n",
      "# of observations: 2180 \n",
      "\n"
     ]
    }
   ],
   "source": [
    "lpm_fe=lpd.estim(dat.dropna(), y_it, xvar=x_lag+x_it+x_t , groupvar='nr', method='fe', cov_type='robust')\n",
    "lpm_pols=lpd.estim(dat.dropna(), y_it, xvar=x_lag+x_it+x_t+x_i+const, groupvar='nr', method='pols', cov_type='robust')"
   ]
  },
  {
   "cell_type": "code",
   "execution_count": 212,
   "metadata": {},
   "outputs": [],
   "source": [
    "def Q_pooled(y, x, T, beta, model='probit', out='Q'):\n",
    "    ''' Pooled linear index model for panel data. e.g pooled probit or logit\n",
    "        y:      Nobs x 1 np.array of binary response data\n",
    "        x:      Nobs x k np.array of explanatory variables\n",
    "        T:      n x 1  np.array of containing number of time observations for each group \n",
    "        model:  'probit' or 'logit'\n",
    "        out:    controls what is returned - can be 'predict','Q', 'dQ', 's_i', or 'H'\n",
    "    '''\n",
    "\n",
    "    beta=np.array(beta).reshape(-1,1)             # parameters\n",
    "    n=T.shape[0];                                 # number of groups\n",
    "    xb=x @ beta                                   # Linear index \n",
    "    Gx=G(xb, model)                               # Response probability at x\n",
    "    gx=g(xb, model)                               # Density at xb\n",
    "    Gx=np.minimum(np.maximum(Gx,1e-15),1-1e-15)   # Truncating Gx\n",
    "    if out=='predict':  return xb, Gx, gx         # Return predicted values\n",
    "\n",
    "    ll_it = np.log(Gx)*y + np.log(1-Gx)*(1-y)     # Nobsx1 vector of log-likelihood contributions for group i at time t\n",
    "    q_i= - sumby(ll_it, T)                        # nx1 vector of (negative) log-likelihood contributions \n",
    "    if out=='Q': return np.mean(q_i);             # Return Q: sample objective function to be minimized - negative of log-likelihood\n",
    "\n",
    "    # 1st order derivatives\n",
    "    s_it=gx*x*(y-Gx)/( Gx* (1-Gx))                # NobsxK array of derivatives of ll_it\n",
    "    s_i = sumby(s_it, T)                          # nxK array of derivatives of ll_i (transposed scores staked over i)\n",
    "    if out=='s_i': return s_i                     # Return s_i: nxK array with scores\n",
    "    if out=='dQ':  return -np.mean(s_i, axis=0);  # Return dQ: array of size K derivative of sample objective function\n",
    "\n",
    "    # 2nd order derivatives\n",
    "    H=(gx*x).T @(gx*x/(Gx* (1-Gx)))/n             # Analytical Hessian averaged over all groups i\n",
    "    # H=s_it.T@ s_it/n                            # Alternative: use product of gradient as Hessian approximation\n",
    "    if out=='H':    return H; "
   ]
  },
  {
   "cell_type": "code",
   "execution_count": 213,
   "metadata": {},
   "outputs": [],
   "source": [
    "def avar(s_i, Ainv, cov_type ='sandwich'):\n",
    "    n, K=s_i.shape\n",
    "    B=s_i.T@ s_i/n \n",
    "    if cov_type=='Binv':        return la.inv(B)/n\n",
    "    if cov_type=='Ainv':        return Ainv/n;         \n",
    "    if cov_type=='sandwich':    return Ainv @ B @ Ainv/n"
   ]
  },
  {
   "cell_type": "code",
   "execution_count": 214,
   "metadata": {},
   "outputs": [],
   "source": [
    "def pooled(df, yvar, xvar, groupvar, model='probit', cov_type='sandwich', deriv=1): \n",
    "    print('Pooled', model)\n",
    "    Nobs, k, n, T, y, x = panel_setup(df, yvar, xvar, groupvar)\n",
    "    Qfun     = lambda beta, out:  Q_pooled(y, x, T, beta, model, out)\n",
    "    res=M.estimation(Qfun, theta0=np.zeros((k)), deriv=deriv, cov_type=cov_type, parnames=xvar)\n",
    "    xb, Gx, gx = Qfun(res.theta_hat, out='predict')\n",
    "    APE=np.mean(gx)*res.theta_hat\n",
    "    res.update(dict(zip(['yvar', 'xvar', 'Nobs','k', 'n', 'T', 'APE'], [yvar, xvar, Nobs, k, n, T, APE])))\n",
    "    print_output(res)\n",
    "    return res"
   ]
  },
  {
   "cell_type": "code",
   "execution_count": 215,
   "metadata": {},
   "outputs": [
    {
     "name": "stdout",
     "output_type": "stream",
     "text": [
      "Pooled probit\n",
      "Dep. var. : ['union'] \n",
      "\n",
      "parnames      theta_hat          se    t-values         jac         APE\n",
      "----------  -----------  ----------  ----------  ----------  ----------\n",
      "l1.union        1.85545     0.09046    20.51182    -0.00000     0.39666\n",
      "married         0.08811     0.06742     1.30697    -0.00000     0.01884\n",
      "educ           -0.01020     0.01974    -0.51695    -0.00000    -0.00218\n",
      "year           -0.01444     0.02499    -0.57808    -0.00000    -0.00309\n",
      "const          27.41808    49.53445     0.55352    -0.00000     5.86154\n",
      "\n",
      "# of groups:      : 545\n",
      "# of observations : 2180\n",
      "# log-likelihood. : -846.9941576129829 \n",
      "\n",
      "Iteration info: 41 iterations, 47 evaluations of objective, and 47 evaluations of gradients\n",
      "Elapsed time: 0.1409 seconds\n",
      "\n"
     ]
    }
   ],
   "source": [
    "# Estimate probit model\n",
    "\n",
    "res_dyn_pp = pooled(dat.dropna(), y_it, xvar=x_lag+x_it+x_i+x_t+const, groupvar=groupvar, model='probit')"
   ]
  },
  {
   "cell_type": "code",
   "execution_count": 216,
   "metadata": {},
   "outputs": [
    {
     "name": "stdout",
     "output_type": "stream",
     "text": [
      "Index(['nr', 'year', 'union', 'married', 'educ', 'const', 'l1.union', 'union1',\n",
      "       'married1', 'married2', 'married3', 'married4', 'married5'],\n",
      "      dtype='object')\n"
     ]
    }
   ],
   "source": [
    "# Create time-specific married variables\n",
    "for t, year in enumerate(sorted(dat.year.unique()), 1):\n",
    "    dat[f'married{t}'] = dat['married'] * (dat.year == year).astype(int)\n",
    "\n",
    "# Confirm the new variables exist\n",
    "print(dat.columns)"
   ]
  },
  {
   "cell_type": "code",
   "execution_count": 217,
   "metadata": {},
   "outputs": [
    {
     "name": "stdout",
     "output_type": "stream",
     "text": [
      "Pooled probit\n",
      "Dep. var. : ['union'] \n",
      "\n",
      "parnames      theta_hat          se          t-values         jac         APE\n",
      "----------  -----------  ----------  ----------------  ----------  ----------\n",
      "l1.union        1.60819     0.08637          18.61993     0.00000     0.33624\n",
      "married         0.21643     0.10300           2.10130     0.00000     0.04525\n",
      "educ           -0.00975     0.01809          -0.53908     0.00000    -0.00204\n",
      "year           -0.02822     0.03339          -0.84524     0.00000    -0.00590\n",
      "const          54.66895    66.21308           0.82565     0.00000    11.43000\n",
      "married1        0.00000     0.00000         nan          -0.00000     0.00000\n",
      "married2       -0.31097     0.17637          -1.76319    -0.00000    -0.06502\n",
      "married3        0.02586     0.13628           0.18978     0.00000     0.00541\n",
      "married4       -0.31985     0.11591          -2.75957    -0.00000    -0.06687\n",
      "union1          0.46966     0.08649           5.42993     0.00000     0.09819\n",
      "\n",
      "# of groups:      : 545\n",
      "# of observations : 2180\n",
      "# log-likelihood. : -828.5381306141287 \n",
      "\n",
      "Iteration info: 56 iterations, 62 evaluations of objective, and 62 evaluations of gradients\n",
      "Elapsed time: 0.1551 seconds\n",
      "\n"
     ]
    },
    {
     "name": "stderr",
     "output_type": "stream",
     "text": [
      "/Users/rohdee/Github/EconometricsB/Assignment 2/mestim.py:40: RuntimeWarning: invalid value encountered in divide\n",
      "  results = [parnames, theta_hat, se, theta_hat/se, cov, Q(theta_hat), toc - tic, s_i]\n"
     ]
    }
   ],
   "source": [
    "# Dynamic probit model\n",
    "\n",
    "z_i=['married1', 'married2', 'married3', 'married4', 'union1']\n",
    "res_dyn_pp_controls=pooled(dat.dropna(), y_it, xvar=x_lag + x_it + x_i +x_t + const + z_i , groupvar='nr', model='probit')"
   ]
  },
  {
   "cell_type": "code",
   "execution_count": 218,
   "metadata": {},
   "outputs": [
    {
     "name": "stdout",
     "output_type": "stream",
     "text": [
      "Random effects probit\n",
      "Dep. var. : ['union'] \n",
      "\n",
      "parnames      theta_hat          se    t-values         jac         APE\n",
      "----------  -----------  ----------  ----------  ----------  ----------\n",
      "l1.union        0.70409     0.12441     5.65939    -0.00000     0.10976\n",
      "married         0.24553     0.17277     1.42111    -0.00000     0.03828\n",
      "educ           -0.02053     0.04311    -0.47626    -0.00000    -0.00320\n",
      "year           -0.05762     0.05099    -1.12983    -0.00001    -0.00898\n",
      "const         112.53559   101.09199     1.11320    -0.00000    17.54377\n",
      "married1        0.00000     0.04284     0.00000    -0.00000     0.00000\n",
      "married2       -0.45832     0.24447    -1.87475    -0.00000    -0.07145\n",
      "married3        0.00699     0.19708     0.03548    -0.00000     0.00109\n",
      "married4       -0.39917     0.17333    -2.30300    -0.00000    -0.06223\n",
      "union1          1.80549     0.23354     7.73098    -0.00000     0.28147\n",
      "sigma_a         1.25009     0.13301     9.39876     0.00000     0.19488\n",
      "\n",
      "# of groups:      : 545\n",
      "# of observations : 2180\n",
      "# log-likelihood. : -793.6685737145466 \n",
      "\n",
      "Iteration info: 67 iterations, 74 evaluations of objective, and 74 evaluations of gradients\n",
      "Elapsed time: 1.2515 seconds\n",
      "\n"
     ]
    }
   ],
   "source": [
    "# Dynamic random effects probit model\n",
    "\n",
    "sigma_a0=1\n",
    "theta0=res_dyn_pp_controls.theta_hat*np.sqrt(1+sigma_a0**2)\n",
    "theta0=np.append(theta0,sigma_a0)\n",
    "res_dynrep=rand_effect(dat.dropna(), y_it, xvar=x_lag + x_it + x_i + x_t + const + z_i, groupvar='nr', model='probit', theta0=theta0)"
   ]
  },
  {
   "cell_type": "code",
   "execution_count": 219,
   "metadata": {},
   "outputs": [
    {
     "name": "stdout",
     "output_type": "stream",
     "text": [
      "State dependence estimated by dynamic random effects probit: 0.1248689442873571\n",
      "State dependence estimated by dynamic pooled probit: 0.6132590144591632\n",
      "State dependence estimated by dynamic pooled probit with correlation control: 0.5240994015937617\n"
     ]
    }
   ],
   "source": [
    "# Compute APE in DRE probit\n",
    "Nobs, k, n, T, y, x = panel_setup(dat.dropna(), y_it,  \n",
    "   xvar=x_lag +x_it + x_i +x_t + const + z_i , groupvar='nr')\n",
    "sigma_a_hat=res_dynrep.theta_hat[-1];\n",
    "beta_hat_a=res_dynrep.theta_hat[0:-1]/np.sqrt(1+sigma_a_hat**2)\n",
    "\n",
    "rho_hat=beta_hat_a[0,0];\n",
    "beta_hat_a0=beta_hat_a.copy()\n",
    "beta_hat_a0[0,0]=0;\n",
    "Px0=G(x@beta_hat_a0, 'probit')\n",
    "Px1=G(x@beta_hat_a0 + rho_hat, 'probit')\n",
    "PE_lagy_RE=Px1-Px0 \n",
    "print('State dependence estimated by dynamic random effects probit:',np.mean(PE_lagy_RE))\n",
    "\n",
    "# Compute APE in DP probit\n",
    "Nobs, k, n, T, y, x = panel_setup(dat.dropna(), y_it,  \n",
    "                                  xvar=x_lag + x_it + x_i + x_t + const, groupvar='nr')\n",
    "beta_hat_a=res_dyn_pp.theta_hat\n",
    "rho_hat=beta_hat_a[0,0];\n",
    "beta_hat_a0=beta_hat_a.copy()\n",
    "beta_hat_a0[0,0]=0;\n",
    "Px0=G(x@beta_hat_a0, 'probit')\n",
    "Px1=G(x@beta_hat_a0 + rho_hat, 'probit')\n",
    "PE_lagy_Pooled=Px1-Px0 \n",
    "print('State dependence estimated by dynamic pooled probit:',np.mean(PE_lagy_Pooled))\n",
    "\n",
    "# with controls for correlation with x_it\n",
    "Nobs, k, n, T, y, x = panel_setup(dat.dropna(), y_it,  \n",
    "                                  xvar=x_lag + x_it + x_i + x_t + const + z_i, groupvar='nr')\n",
    "beta_hat_a=res_dyn_pp_controls.theta_hat\n",
    "rho_hat=beta_hat_a[0,0];\n",
    "beta_hat_a0=beta_hat_a.copy()\n",
    "beta_hat_a0[0,0]=0;\n",
    "Px0=G(x@beta_hat_a0, 'probit')\n",
    "Px1=G(x@beta_hat_a0 + rho_hat, 'probit')\n",
    "PE_lagy_Pooled_control=Px1-Px0 \n",
    "print('State dependence estimated by dynamic pooled probit with correlation control:',np.mean(PE_lagy_Pooled_control))"
   ]
  },
  {
   "cell_type": "code",
   "execution_count": 220,
   "metadata": {},
   "outputs": [
    {
     "data": {
      "image/png": "[encoded data removed]",
      "text/plain": [
       "<Figure size 1200x600 with 3 Axes>"
      ]
     },
     "metadata": {},
     "output_type": "display_data"
    }
   ],
   "source": [
    "# plots\n",
    "fig, axes = plt.subplots(nrows=1, ncols=3, figsize=(12, 6))\n",
    "\n",
    "axes[0].hist(PE_lagy_RE, bins=50, color='blue')\n",
    "axes[0].set_title('Histogram of PE_lagy_RE')\n",
    "axes[0].set_xlabel('Values')\n",
    "axes[0].set_ylabel('Frequency')\n",
    "\n",
    "axes[1].hist(PE_lagy_Pooled, bins=50, color='orange')\n",
    "axes[1].set_title('Histogram of PE_lagy_Pooled')\n",
    "axes[1].set_xlabel('Values')\n",
    "axes[1].set_ylabel('Frequency')\n",
    "\n",
    "\n",
    "axes[2].hist(PE_lagy_Pooled_control, bins=50, color='darkmagenta')\n",
    "axes[2].set_title('Histogram of PE_lagy_Pooled_control')\n",
    "axes[2].set_xlabel('Values')\n",
    "axes[2].set_ylabel('Frequency')\n",
    "\n",
    "\n",
    "plt.tight_layout()\n",
    "\n",
    "plt.show()"
   ]
  }
 ],
 "metadata": {
  "kernelspec": {
   "display_name": "econ",
   "language": "python",
   "name": "python3"
  },
  "language_info": {
   "codemirror_mode": {
    "name": "ipython",
    "version": 3
   },
   "file_extension": ".py",
   "mimetype": "text/x-python",
   "name": "python",
   "nbconvert_exporter": "python",
   "pygments_lexer": "ipython3",
   "version": "3.11.11"
  }
 },
 "nbformat": 4,
 "nbformat_minor": 2
}
