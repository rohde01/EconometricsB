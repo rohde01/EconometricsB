{
 "cells": [
  {
   "cell_type": "markdown",
   "metadata": {},
   "source": [
    "# Linear Panel Estimations\n",
    "\n"
   ]
  },
  {
   "cell_type": "code",
   "execution_count": null,
   "metadata": {},
   "outputs": [],
   "source": [
    "import pandas as pd \n",
    "import numpy as np\n",
    "import seaborn as sns\n",
    "from numpy import linalg as la\n",
    "from scipy.stats import chi2\n",
    "from tabulate import tabulate\n",
    "import LinearModelsProject1 as lm\n",
    "%load_ext autoreload\n",
    "%autoreload 2"
   ]
  },
  {
   "cell_type": "code",
   "execution_count": null,
   "metadata": {},
   "outputs": [],
   "source": [
    "\n",
    "# data load\n",
    "data = pd.read_csv(\"firms.csv\")\n",
    "\n",
    "N_list = data.firmid.unique()\n",
    "T_list = data.year.unique()\n",
    "\n",
    "N = data.firmid.unique().size\n",
    "T = data.year.unique().size\n",
    "\n",
    "y = data.ldsa.values.reshape((N*T,1))\n",
    "l = data.lemp.values.reshape((N*T,1))\n",
    "k = data.lcap.values.reshape((N*T,1))\n",
    "\n",
    "# Only include odd years\n",
    "\n",
    "N_list= np.delete(N_list, np.s_[::2], axis=0)\n",
    "N = N_list.size\n",
    "\n",
    "T_list = np.delete(T_list, np.s_[::2], axis=0)\n",
    "T = T_list.size\n",
    "\n",
    "y = np.delete(y, np.s_[::2], axis=0)\n",
    "constant = np.ones((y.shape[0], 1))\n",
    "k = np.delete(k, np.s_[::2], axis=0)\n",
    "l = np.delete(l, np.s_[::2], axis=0)\n",
    "X = np.hstack([constant, l, k])\n",
    "\n",
    "\n",
    "\n"
   ]
  },
  {
   "cell_type": "code",
   "execution_count": null,
   "metadata": {},
   "outputs": [],
   "source": [
    "# Usi the POLS method to estimate parameters\n",
    "\n",
    "label_x = [\"c\", \"Log Employment\", \"Log Adjusted Capital\"]\n",
    "label_y = \"Log Deflated Sales\"\n",
    "\n",
    "\n",
    "ols_result = lm.estimate(y, X)\n",
    "\n",
    "lm.print_table(\n",
    "    (label_y, label_x), ols_result, title=\"Pooled OLS\", floatfmt='.4f'\n",
    ")\n"
   ]
  }
 ],
 "metadata": {
  "kernelspec": {
   "display_name": "econ",
   "language": "python",
   "name": "python3"
  },
  "language_info": {
   "codemirror_mode": {
    "name": "ipython",
    "version": 3
   },
   "file_extension": ".py",
   "mimetype": "text/x-python",
   "name": "python",
   "nbconvert_exporter": "python",
   "pygments_lexer": "ipython3",
   "version": "3.11.11"
  }
 },
 "nbformat": 4,
 "nbformat_minor": 2
}
