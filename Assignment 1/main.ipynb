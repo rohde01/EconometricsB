{
 "cells": [
  {
   "cell_type": "markdown",
   "metadata": {},
   "source": [
    "# Linear Panel Estimations\n",
    "\n"
   ]
  },
  {
   "cell_type": "code",
   "execution_count": 71,
   "metadata": {},
   "outputs": [
    {
     "name": "stdout",
     "output_type": "stream",
     "text": [
      "The autoreload extension is already loaded. To reload it, use:\n",
      "  %reload_ext autoreload\n"
     ]
    }
   ],
   "source": [
    "import pandas as pd \n",
    "import numpy as np\n",
    "import seaborn as sns\n",
    "from numpy import linalg as la\n",
    "from scipy.stats import chi2\n",
    "from tabulate import tabulate\n",
    "import LinearModelsProject1 as lm\n",
    "%load_ext autoreload\n",
    "%autoreload 2"
   ]
  },
  {
   "cell_type": "code",
   "execution_count": null,
   "metadata": {},
   "outputs": [],
   "source": [
    "\n",
    "## Reading data from the csv file\n",
    "data = pd.read_csv(\"firms.csv\")\n",
    "\n",
    "N_list = data.firmid.unique()\n",
    "T_list = data.year.unique()\n",
    "\n",
    "N = data.firmid.unique().size\n",
    "T = data.year.unique().size\n",
    "\n",
    "y = data.ldsa.values.reshape((N*T,1))\n",
    "l = data.lemp.values.reshape((N*T,1))\n",
    "k = data.lcap.values.reshape((N*T,1))\n",
    "\n",
    "constant = np.ones((y.shape[0], 1))\n",
    "X = np.hstack([constant, l, k])\n",
    "\n",
    "\n",
    "\n"
   ]
  },
  {
   "cell_type": "code",
   "execution_count": 73,
   "metadata": {},
   "outputs": [
    {
     "name": "stdout",
     "output_type": "stream",
     "text": [
      "Pooled OLS\n",
      "Dependent variable: Log Deflated Sales\n",
      "\n",
      "                        Beta      Se    t-values\n",
      "--------------------  ------  ------  ----------\n",
      "c                     0.0000  0.0050      0.0000\n",
      "Log Employment        0.6748  0.0102     66.4625\n",
      "Log Adjusted Capital  0.3100  0.0091     33.9237\n",
      "R² = 0.914\n",
      "σ² = 0.131\n"
     ]
    }
   ],
   "source": [
    "# Usi the POLS method to estimate parameters\n",
    "\n",
    "label_x = [\"c\", \"Log Employment\", \"Log Adjusted Capital\"]\n",
    "label_y = \"Log Deflated Sales\"\n",
    "\n",
    "\n",
    "ols_result = lm.estimate(y, X)\n",
    "\n",
    "lm.print_table(\n",
    "    (label_y, label_x), ols_result, title=\"Pooled OLS\", floatfmt='.4f'\n",
    ")\n"
   ]
  },
  {
   "cell_type": "code",
   "execution_count": 74,
   "metadata": {},
   "outputs": [
    {
     "name": "stdout",
     "output_type": "stream",
     "text": [
      "FE regression\n",
      "Dependent variable: Log Deflated Sales\n",
      "\n",
      "                        Beta       Se    t-values\n",
      "--------------------  ------  -------  ----------\n",
      "Log Employment        0.6942  0.04165      16.67\n",
      "Log Adjusted Capital  0.1546  0.02995       5.163\n",
      "R² = 0.477\n",
      "σ² = 0.018\n"
     ]
    }
   ],
   "source": [
    "# Estimate using the FE method\n",
    "\n",
    "def demeaning_matrix(T):\n",
    "    Q_T = np.eye(T) - np.tile(1/T, (T, T))\n",
    "    return Q_T\n",
    "\n",
    "Q_T = demeaning_matrix(T)\n",
    "\n",
    "\n",
    "y_demean = lm.perm(Q_T, y)\n",
    "x_demean = lm.perm(Q_T, X)\n",
    "x_demean = x_demean[:, 1:]\n",
    "label_x_fe = label_x[1:]\n",
    "\n",
    "\n",
    "fe_result = lm.estimate(\n",
    "    y_demean, x_demean, transform='fe', T=T, robust_se=True\n",
    ")\n",
    "\n",
    "\n",
    "lm.print_table(\n",
    "    (label_y,label_x_fe), \n",
    "    fe_result, title='FE regression', floatfmt='.4'\n",
    ")\n",
    "\n"
   ]
  },
  {
   "cell_type": "code",
   "execution_count": 75,
   "metadata": {},
   "outputs": [
    {
     "name": "stdout",
     "output_type": "stream",
     "text": [
      "FD regression\n",
      "Dependent variable: Log Deflated Sales\n",
      "\n",
      "                        Beta      Se    t-values\n",
      "--------------------  ------  ------  ----------\n",
      "Log Employment        0.5487  0.0284     19.3056\n",
      "Log Adjusted Capital  0.0630  0.0229      2.7460\n",
      "R² = 0.165\n",
      "σ² = 0.014\n"
     ]
    }
   ],
   "source": [
    "# Estimate using the FD method\n",
    "\n",
    "def fd_matrix(T):\n",
    "    D_T = np.eye(T) - np.eye(T, k=-1)\n",
    "    D_T = D_T[1:]\n",
    "    return D_T\n",
    "\n",
    "D_T = fd_matrix(T)\n",
    "\n",
    "y_diff = lm.perm(D_T, y)\n",
    "x_diff = lm.perm(D_T, X[:,1:])\n",
    "fd_result = lm.estimate(y_diff, x_diff, transform='fd', T=T, robust_se=True)\n",
    "\n",
    "lm.print_table(\n",
    "    (label_y, label_x[1:]), \n",
    "    fd_result, title='FD regression', floatfmt='.4f'\n",
    ")\n"
   ]
  },
  {
   "cell_type": "code",
   "execution_count": null,
   "metadata": {},
   "outputs": [],
   "source": []
  }
 ],
 "metadata": {
  "kernelspec": {
   "display_name": "econ",
   "language": "python",
   "name": "python3"
  },
  "language_info": {
   "codemirror_mode": {
    "name": "ipython",
    "version": 3
   },
   "file_extension": ".py",
   "mimetype": "text/x-python",
   "name": "python",
   "nbconvert_exporter": "python",
   "pygments_lexer": "ipython3",
   "version": "3.11.11"
  }
 },
 "nbformat": 4,
 "nbformat_minor": 2
}
