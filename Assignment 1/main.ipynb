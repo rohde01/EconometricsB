{
 "cells": [
  {
   "cell_type": "markdown",
   "metadata": {},
   "source": [
    "# Linear Panel Estimations\n",
    "\n"
   ]
  },
  {
   "cell_type": "code",
   "execution_count": 144,
   "metadata": {},
   "outputs": [
    {
     "name": "stdout",
     "output_type": "stream",
     "text": [
      "The autoreload extension is already loaded. To reload it, use:\n",
      "  %reload_ext autoreload\n"
     ]
    }
   ],
   "source": [
    "import pandas as pd \n",
    "import numpy as np\n",
    "import seaborn as sns\n",
    "from numpy import linalg as la\n",
    "from scipy.stats import chi2\n",
    "from tabulate import tabulate\n",
    "import LinearModelsProject1 as lm\n",
    "%load_ext autoreload\n",
    "%autoreload 2"
   ]
  },
  {
   "cell_type": "code",
   "execution_count": 145,
   "metadata": {},
   "outputs": [],
   "source": [
    "\n",
    "## Reading data from the csv file\n",
    "data = pd.read_csv(\"firms.csv\")\n",
    "\n",
    "N_list = data.firmid.unique()\n",
    "T_list = data.year.unique()\n",
    "\n",
    "N = data.firmid.unique().size\n",
    "T = data.year.unique().size\n",
    "\n",
    "y = data.ldsa.values.reshape((N*T,1))\n",
    "l = data.lemp.values.reshape((N*T,1))\n",
    "k = data.lcap.values.reshape((N*T,1))\n",
    "\n",
    "constant = np.ones((y.shape[0], 1))\n",
    "X = np.hstack([constant, l, k])\n",
    "\n",
    "\n",
    "\n"
   ]
  },
  {
   "cell_type": "code",
   "execution_count": 146,
   "metadata": {},
   "outputs": [
    {
     "name": "stdout",
     "output_type": "stream",
     "text": [
      "Pooled OLS\n",
      "Dependent variable: Log Deflated Sales\n",
      "\n",
      "                        Beta      Se    t-values\n",
      "--------------------  ------  ------  ----------\n",
      "c                     0.0000  0.0050      0.0000\n",
      "Log Employment        0.6748  0.0102     66.4625\n",
      "Log Adjusted Capital  0.3100  0.0091     33.9237\n",
      "R² = 0.914\n",
      "σ² = 0.131\n"
     ]
    }
   ],
   "source": [
    "# Usi the POLS method to estimate parameters\n",
    "\n",
    "label_x = [\"c\", \"Log Employment\", \"Log Adjusted Capital\"]\n",
    "label_y = \"Log Deflated Sales\"\n",
    "\n",
    "\n",
    "ols_result = lm.estimate(y, X)\n",
    "\n",
    "lm.print_table(\n",
    "    (label_y, label_x), ols_result, title=\"Pooled OLS\", floatfmt='.4f'\n",
    ")\n"
   ]
  },
  {
   "cell_type": "code",
   "execution_count": 147,
   "metadata": {},
   "outputs": [
    {
     "name": "stdout",
     "output_type": "stream",
     "text": [
      "FE regression\n",
      "Dependent variable: Log Deflated Sales\n",
      "\n",
      "                        Beta       Se    t-values\n",
      "--------------------  ------  -------  ----------\n",
      "Log Employment        0.6942  0.04165      16.67\n",
      "Log Adjusted Capital  0.1546  0.02995       5.163\n",
      "R² = 0.477\n",
      "σ² = 0.018\n"
     ]
    }
   ],
   "source": [
    "# Estimate using the FE method\n",
    "\n",
    "def demeaning_matrix(T):\n",
    "    Q_T = np.eye(T) - np.tile(1/T, (T, T))\n",
    "    return Q_T\n",
    "\n",
    "Q_T = demeaning_matrix(T)\n",
    "\n",
    "\n",
    "y_demean = lm.perm(Q_T, y)\n",
    "x_demean = lm.perm(Q_T, X)\n",
    "x_demean = x_demean[:, 1:]\n",
    "label_x_fe = label_x[1:]\n",
    "\n",
    "\n",
    "fe_result = lm.estimate(\n",
    "    y_demean, x_demean, transform='fe', T=T, robust_se=True\n",
    ")\n",
    "\n",
    "\n",
    "lm.print_table(\n",
    "    (label_y,label_x_fe), \n",
    "    fe_result, title='FE regression', floatfmt='.4'\n",
    ")\n",
    "\n"
   ]
  },
  {
   "cell_type": "code",
   "execution_count": 148,
   "metadata": {},
   "outputs": [
    {
     "name": "stdout",
     "output_type": "stream",
     "text": [
      "FD regression\n",
      "Dependent variable: Log Deflated Sales\n",
      "\n",
      "                        Beta      Se    t-values\n",
      "--------------------  ------  ------  ----------\n",
      "Log Employment        0.5487  0.0284     19.3056\n",
      "Log Adjusted Capital  0.0630  0.0229      2.7460\n",
      "R² = 0.165\n",
      "σ² = 0.014\n"
     ]
    }
   ],
   "source": [
    "# Estimate using the FD method\n",
    "\n",
    "def fd_matrix(T):\n",
    "    D_T = np.eye(T) - np.eye(T, k=-1)\n",
    "    D_T = D_T[1:]\n",
    "    return D_T\n",
    "\n",
    "D_T = fd_matrix(T)\n",
    "\n",
    "y_diff = lm.perm(D_T, y)\n",
    "x_diff = lm.perm(D_T, X[:,1:])\n",
    "fd_result = lm.estimate(y_diff, x_diff, transform='fd', T=T, robust_se=True)\n",
    "\n",
    "lm.print_table(\n",
    "    (label_y, label_x[1:]), \n",
    "    fd_result, title='FD regression', floatfmt='.4f'\n",
    ")\n"
   ]
  },
  {
   "cell_type": "code",
   "execution_count": 149,
   "metadata": {},
   "outputs": [
    {
     "name": "stdout",
     "output_type": "stream",
     "text": [
      "RE\n",
      "Dependent variable: Log Deflated Sales\n",
      "\n",
      "                        Beta      Se    t-values\n",
      "--------------------  ------  ------  ----------\n",
      "c                     0.0000  0.0168        0.00\n",
      "Log Employment        0.7197  0.0335       21.46\n",
      "Log Adjusted Capital  0.1989  0.0261        7.62\n",
      "R² = 0.642\n",
      "σ² = 0.018\n",
      "λ = 0.887\n"
     ]
    }
   ],
   "source": [
    "# Estimate using the RE method\n",
    "\n",
    "def mean_matrix(T):\n",
    "    return np.tile(1/T, (1, T))\n",
    "P_T = mean_matrix(T)\n",
    "\n",
    "y_mean = lm.perm(P_T, y)\n",
    "x_mean = lm.perm(P_T, X)\n",
    "\n",
    "be_result = lm.estimate(\n",
    "    y_mean, x_mean, transform='be', robust_se=True)\n",
    "\n",
    "sigma_u = fe_result['sigma2']\n",
    "sigma_c = be_result['sigma2'] - sigma_u/T\n",
    "_lambda = 1 - np.sqrt(sigma_u/(sigma_u + T*sigma_c))\n",
    "\n",
    "C_t = np.eye(T) - _lambda*mean_matrix(T)\n",
    "\n",
    "x_re = lm.perm(C_t, X)\n",
    "y_re = lm.perm(C_t, y)\n",
    "\n",
    "re_result = lm.estimate(\n",
    "    y_re, x_re, transform='re', T=T, robust_se=True\n",
    ")\n",
    "\n",
    "lm.print_table(\n",
    "    labels=(label_y, label_x), results=re_result, _lambda=_lambda,\n",
    "    title='RE',\n",
    "    floatfmt=['', '.4f', '.4f', '.2f']\n",
    ")"
   ]
  },
  {
   "cell_type": "code",
   "execution_count": 150,
   "metadata": {},
   "outputs": [
    {
     "name": "stdout",
     "output_type": "stream",
     "text": [
      "Serial Correlation for First Differencing\n",
      "Dependent variable: OLS residual, eᵢₜ\n",
      "\n",
      "          Beta      Se    t-values\n",
      "-----  -------  ------  ----------\n",
      "eᵢₜ₋₁  -0.1987  0.0148    -13.4493\n",
      "R² = 0.039\n",
      "σ² = 0.014\n",
      "Serial Correlation for Fixed Effects\n",
      "Dependent variable: OLS residual, eᵢₜ\n",
      "\n",
      "         Beta      Se    t-values\n",
      "-----  ------  ------  ----------\n",
      "eᵢₜ₋₁  0.5316  0.0123     43.2811\n",
      "R² = 0.279\n",
      "σ² = 0.011\n"
     ]
    }
   ],
   "source": [
    "# run serial correlation test\n",
    "\n",
    "def serial_corr(y, X, T, T_list):\n",
    "    \"\"\"Test for serial correlation in panel data\n",
    "    \n",
    "    Args:\n",
    "        y: dependent variable (NT x 1)\n",
    "        X: independent variables (NT x K)\n",
    "        T: number of time periods\n",
    "        T_list: array of time periods\n",
    "    \"\"\"\n",
    "    b_hat = lm.est_ols(y, X)\n",
    "    e = y - X@b_hat\n",
    "    \n",
    "    N = len(e) // T\n",
    "    e_panel = e.reshape(N, T)\n",
    "    \n",
    "    e_lag = e_panel[:, :-1]\n",
    "    e_current = e_panel[:, 1:]\n",
    "    \n",
    "    e_lag_flat = e_lag.reshape(-1, 1)\n",
    "    e_current_flat = e_current.reshape(-1, 1)\n",
    "    \n",
    "    return lm.estimate(e_current_flat, e_lag_flat)\n",
    "\n",
    "N = len(data.firmid.unique())\n",
    "T = len(data.year.unique())\n",
    "\n",
    "corr_result_fd = serial_corr(y_diff, x_diff, T-1, T_list)\n",
    "corr_result_fe = serial_corr(y_demean, x_demean, T, T_list)\n",
    "\n",
    "label_ye = 'OLS residual, e\\u1d62\\u209c'\n",
    "label_e = ['e\\u1d62\\u209c\\u208B\\u2081']\n",
    "\n",
    "lm.print_table(\n",
    "    (label_ye, label_e), corr_result_fd, \n",
    "    title='Serial Correlation for First Differencing', \n",
    "    floatfmt='.4f'\n",
    ")\n",
    "\n",
    "lm.print_table(\n",
    "    (label_ye, label_e), corr_result_fe, \n",
    "    title='Serial Correlation for Fixed Effects', \n",
    "    floatfmt='.4f'\n",
    ")"
   ]
  },
  {
   "cell_type": "code",
   "execution_count": 151,
   "metadata": {},
   "outputs": [
    {
     "name": "stdout",
     "output_type": "stream",
     "text": [
      "Exogeneity test\n",
      "Dependent variable: Log Deflated Sales\n",
      "\n",
      "                        Beta      Se    t-values\n",
      "--------------------  ------  ------  ----------\n",
      "Log Employment        0.5408  0.0234     23.0904\n",
      "Log Adjusted Capital  0.0280  0.0230      1.2153\n",
      "Employment Lead       0.1667  0.0258      6.4706\n",
      "Capital Lead          0.1419  0.0225      6.3134\n",
      "R² = 0.478\n",
      "σ² = 0.016\n"
     ]
    },
    {
     "data": {
      "text/plain": [
       "{'b_hat': array([[0.54082746],\n",
       "        [0.02799744],\n",
       "        [0.16672914],\n",
       "        [0.14194843]]),\n",
       " 'se': array([[0.02342216],\n",
       "        [0.02303819],\n",
       "        [0.02576738],\n",
       "        [0.02248373]]),\n",
       " 'sigma2': np.float64(0.01605746632468828),\n",
       " 't_values': array([[23.09041339],\n",
       "        [ 1.21526191],\n",
       "        [ 6.47055075],\n",
       "        [ 6.31338507]]),\n",
       " 'R2': np.float64(0.4782370109674602),\n",
       " 'cov': array([[ 5.48597791e-04, -2.65465894e-05, -1.08715395e-04,\n",
       "         -3.81354590e-04],\n",
       "        [-2.65465894e-05,  5.30758241e-04, -4.83673692e-04,\n",
       "          2.48611743e-05],\n",
       "        [-1.08715395e-04, -4.83673692e-04,  6.63957847e-04,\n",
       "         -4.48777200e-05],\n",
       "        [-3.81354590e-04,  2.48611743e-05, -4.48777200e-05,\n",
       "          5.05518013e-04]])}"
      ]
     },
     "execution_count": 151,
     "metadata": {},
     "output_type": "execute_result"
    }
   ],
   "source": [
    "# test for exogeneity in the panel data\n",
    "\n",
    "def exogeneity_test(X, y, T, T_list):\n",
    "    \n",
    "    N = len(y) // T\n",
    "\n",
    "    X_panel = X.reshape(N, T, -1)\n",
    "    y_panel = y.reshape(N, T, -1) \n",
    "    \n",
    "    F_T = np.eye(T, k=1)\n",
    "    F_T = F_T[:-1]\n",
    "    \n",
    "    capital_lead = X_panel[:, 1:, 2].reshape(-1, 1) \n",
    "    employment_lead = X_panel[:, 1:, 1].reshape(-1, 1) \n",
    "\n",
    "    X_exo = X_panel[:, :-1, :].reshape(-1, X.shape[1])\n",
    "    y_exo = y_panel[:, :-1, :].reshape(-1, 1)\n",
    "    \n",
    "    X_exo = np.hstack((X_exo, capital_lead, employment_lead))\n",
    "    \n",
    "    Q_T = demeaning_matrix(T - 1)\n",
    "    \n",
    "    yw_exo = lm.perm(Q_T, y_exo)\n",
    "    xw_exo = lm.perm(Q_T, X_exo)\n",
    "    xw_exo = xw_exo[:, 1:] \n",
    "    \n",
    "    label_exo = label_x_fe + ['Employment Lead', 'Capital Lead']\n",
    "    \n",
    "    exo_test = lm.estimate(\n",
    "        yw_exo, xw_exo, \n",
    "        T=T-1, \n",
    "        transform='fe'\n",
    "    )\n",
    "    \n",
    "    lm.print_table(\n",
    "        (label_y, label_exo), \n",
    "        exo_test, \n",
    "        title='Exogeneity test', \n",
    "        floatfmt='.4f'\n",
    "    )\n",
    "    \n",
    "    return exo_test\n",
    "\n",
    "exogeneity_test(X, y, T, T_list)"
   ]
  },
  {
   "cell_type": "code",
   "execution_count": 152,
   "metadata": {},
   "outputs": [
    {
     "name": "stdout",
     "output_type": "stream",
     "text": [
      "  b_fe    b_re    b_diff\n",
      "------  ------  --------\n",
      "0.6942  0.7197   -0.0255\n",
      "0.1546  0.1989   -0.0442\n",
      "The Hausman test statistic is: 10.19, with p-value: 0.01.\n"
     ]
    }
   ],
   "source": [
    "# conduct the Hausman test\n",
    "b_re = re_result['b_hat']\n",
    "b_re = b_re[1:]\n",
    "\n",
    "cov_re = re_result['cov']\n",
    "cov_re = cov_re[1:,1:]\n",
    "\n",
    "\n",
    "hat_diff = fe_result['b_hat'] - b_re \n",
    "\n",
    "cov_diff = fe_result['cov'] - cov_re\n",
    "\n",
    "\n",
    "H = hat_diff.T@la.inv(cov_diff)@hat_diff \n",
    "\n",
    "# calculate the p-value for the test\n",
    "\n",
    "p_val = chi2.sf(H.item(), hat_diff.size)\n",
    "\n",
    "\n",
    "def print_h_test(fe_result, re_result, hat_diff, p_val):\n",
    "    table = []\n",
    "    for i in range(len(hat_diff)):\n",
    "        row = [\n",
    "            fe_result['b_hat'][i], re_result['b_hat'][1:][i], hat_diff[i]\n",
    "        ]\n",
    "        table.append(row)\n",
    "\n",
    "    print(tabulate(\n",
    "        table, headers=['b_fe', 'b_re', 'b_diff'], floatfmt='.4f'\n",
    "        ))\n",
    "    print(f'The Hausman test statistic is: {H.item():.2f}, with p-value: {p_val:_.2f}.')\n",
    "print_h_test(fe_result, re_result, hat_diff, p_val)"
   ]
  }
 ],
 "metadata": {
  "kernelspec": {
   "display_name": "econ",
   "language": "python",
   "name": "python3"
  },
  "language_info": {
   "codemirror_mode": {
    "name": "ipython",
    "version": 3
   },
   "file_extension": ".py",
   "mimetype": "text/x-python",
   "name": "python",
   "nbconvert_exporter": "python",
   "pygments_lexer": "ipython3",
   "version": "3.11.11"
  }
 },
 "nbformat": 4,
 "nbformat_minor": 2
}
